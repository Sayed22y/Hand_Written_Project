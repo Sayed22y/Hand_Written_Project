{
 "cells": [
  {
   "cell_type": "code",
   "execution_count": 12,
   "id": "0772f3db-677e-45e3-a120-3b47453c33b3",
   "metadata": {},
   "outputs": [],
   "source": [
    "import keras\n",
    "import numpy as np\n",
    "from keras.datasets import mnist\n",
    "from keras.models import Sequential\n",
    "from keras.layers import Dense, Dropout, Flatten\n",
    "from keras.layers import Conv2D, MaxPool2D\n",
    "from keras import backend as k"
   ]
  },
  {
   "cell_type": "code",
   "execution_count": 3,
   "id": "36401343-1554-4f44-8aff-ec8220557c25",
   "metadata": {},
   "outputs": [],
   "source": [
    "(x_train, y_train), (x_test, y_test) = mnist.load_data()"
   ]
  },
  {
   "cell_type": "code",
   "execution_count": 4,
   "id": "51776953-d3a9-4614-9610-581b32283739",
   "metadata": {},
   "outputs": [
    {
     "name": "stdout",
     "output_type": "stream",
     "text": [
      "(60000, 28, 28) (60000,)\n"
     ]
    }
   ],
   "source": [
    "print(x_train.shape, y_train.shape)"
   ]
  },
  {
   "cell_type": "code",
   "execution_count": 5,
   "id": "6a7fde93-4f01-4b0c-94aa-056a0725854e",
   "metadata": {},
   "outputs": [],
   "source": [
    "x_train = x_train.reshape(x_train.shape[0], 28, 28, 1)\n",
    "x_test = x_test.reshape(x_test.shape[0], 28, 28, 1)\n",
    "input_shape = (28, 28, 1)"
   ]
  },
  {
   "cell_type": "code",
   "execution_count": 13,
   "id": "5a96ad96-7c23-486a-93b1-6cf68fb55fb5",
   "metadata": {},
   "outputs": [],
   "source": [
    "num_classes = len(np.unique(y_train))"
   ]
  },
  {
   "cell_type": "code",
   "execution_count": 14,
   "id": "e77b90f3-a150-439b-b3fa-81a98322bb9d",
   "metadata": {},
   "outputs": [],
   "source": [
    "y_train = keras.utils.to_categorical(y_train, num_classes)\n",
    "y_test = keras.utils.to_categorical(y_test, num_classes)"
   ]
  },
  {
   "cell_type": "code",
   "execution_count": 15,
   "id": "9bdc39e3-b59a-4940-9d93-11dea65649d1",
   "metadata": {},
   "outputs": [
    {
     "name": "stdout",
     "output_type": "stream",
     "text": [
      "x_train_shape :  (60000, 28, 28, 1)\n",
      "x_test_shape :  (10000, 28, 28, 1)\n",
      "60000 train_samples\n",
      "10000 test_samples\n"
     ]
    }
   ],
   "source": [
    "x_train = x_train.astype('float32')\n",
    "x_test = x_test.astype('float32')\n",
    "\n",
    "x_train /= 255.0\n",
    "x_test /= 255.0\n",
    "\n",
    "print('x_train_shape : ', x_train.shape)\n",
    "print('x_test_shape : ', x_test.shape)\n",
    "\n",
    "print(x_train.shape[0], 'train_samples')\n",
    "print(x_test.shape[0], 'test_samples')"
   ]
  },
  {
   "cell_type": "code",
   "execution_count": 16,
   "id": "ff5603b7-4217-4407-a70b-c40bb8df100b",
   "metadata": {},
   "outputs": [
    {
     "name": "stderr",
     "output_type": "stream",
     "text": [
      "C:\\Users\\Elsayed Hassan\\AppData\\Local\\Programs\\Python\\Python312\\Lib\\site-packages\\keras\\src\\layers\\convolutional\\base_conv.py:107: UserWarning: Do not pass an `input_shape`/`input_dim` argument to a layer. When using Sequential models, prefer using an `Input(shape)` object as the first layer in the model instead.\n",
      "  super().__init__(activity_regularizer=activity_regularizer, **kwargs)\n"
     ]
    }
   ],
   "source": [
    "batch_size = 10\n",
    "num_classes = 10\n",
    "epoches = 10\n",
    "model = Sequential()\n",
    "model.add(Conv2D(32, kernel_size=(3,3),activation='relu',input_shape=input_shape))\n",
    "model.add(Conv2D(64, (3,3), activation='relu'))\n",
    "model.add(MaxPool2D(pool_size=(2,2)))\n",
    "model.add(Dropout(0.25))\n",
    "model.add(Flatten())\n",
    "model.add(Dense(256, activation='relu'))\n",
    "model.add(Dropout(0.5))\n",
    "model.add(Dense(num_classes, activation='softmax'))\n"
   ]
  },
  {
   "cell_type": "code",
   "execution_count": 18,
   "id": "83cabcfc-d537-4bed-b626-b2a348247af1",
   "metadata": {},
   "outputs": [
    {
     "data": {
      "text/html": [
       "<pre style=\"white-space:pre;overflow-x:auto;line-height:normal;font-family:Menlo,'DejaVu Sans Mono',consolas,'Courier New',monospace\"><span style=\"font-weight: bold\">Model: \"sequential\"</span>\n",
       "</pre>\n"
      ],
      "text/plain": [
       "\u001b[1mModel: \"sequential\"\u001b[0m\n"
      ]
     },
     "metadata": {},
     "output_type": "display_data"
    },
    {
     "data": {
      "text/html": [
       "<pre style=\"white-space:pre;overflow-x:auto;line-height:normal;font-family:Menlo,'DejaVu Sans Mono',consolas,'Courier New',monospace\">┏━━━━━━━━━━━━━━━━━━━━━━━━━━━━━━━━━━━━━━┳━━━━━━━━━━━━━━━━━━━━━━━━━━━━━┳━━━━━━━━━━━━━━━━━┓\n",
       "┃<span style=\"font-weight: bold\"> Layer (type)                         </span>┃<span style=\"font-weight: bold\"> Output Shape                </span>┃<span style=\"font-weight: bold\">         Param # </span>┃\n",
       "┡━━━━━━━━━━━━━━━━━━━━━━━━━━━━━━━━━━━━━━╇━━━━━━━━━━━━━━━━━━━━━━━━━━━━━╇━━━━━━━━━━━━━━━━━┩\n",
       "│ conv2d (<span style=\"color: #0087ff; text-decoration-color: #0087ff\">Conv2D</span>)                      │ (<span style=\"color: #00d7ff; text-decoration-color: #00d7ff\">None</span>, <span style=\"color: #00af00; text-decoration-color: #00af00\">26</span>, <span style=\"color: #00af00; text-decoration-color: #00af00\">26</span>, <span style=\"color: #00af00; text-decoration-color: #00af00\">32</span>)          │             <span style=\"color: #00af00; text-decoration-color: #00af00\">320</span> │\n",
       "├──────────────────────────────────────┼─────────────────────────────┼─────────────────┤\n",
       "│ conv2d_1 (<span style=\"color: #0087ff; text-decoration-color: #0087ff\">Conv2D</span>)                    │ (<span style=\"color: #00d7ff; text-decoration-color: #00d7ff\">None</span>, <span style=\"color: #00af00; text-decoration-color: #00af00\">24</span>, <span style=\"color: #00af00; text-decoration-color: #00af00\">24</span>, <span style=\"color: #00af00; text-decoration-color: #00af00\">64</span>)          │          <span style=\"color: #00af00; text-decoration-color: #00af00\">18,496</span> │\n",
       "├──────────────────────────────────────┼─────────────────────────────┼─────────────────┤\n",
       "│ max_pooling2d (<span style=\"color: #0087ff; text-decoration-color: #0087ff\">MaxPooling2D</span>)         │ (<span style=\"color: #00d7ff; text-decoration-color: #00d7ff\">None</span>, <span style=\"color: #00af00; text-decoration-color: #00af00\">12</span>, <span style=\"color: #00af00; text-decoration-color: #00af00\">12</span>, <span style=\"color: #00af00; text-decoration-color: #00af00\">64</span>)          │               <span style=\"color: #00af00; text-decoration-color: #00af00\">0</span> │\n",
       "├──────────────────────────────────────┼─────────────────────────────┼─────────────────┤\n",
       "│ dropout (<span style=\"color: #0087ff; text-decoration-color: #0087ff\">Dropout</span>)                    │ (<span style=\"color: #00d7ff; text-decoration-color: #00d7ff\">None</span>, <span style=\"color: #00af00; text-decoration-color: #00af00\">12</span>, <span style=\"color: #00af00; text-decoration-color: #00af00\">12</span>, <span style=\"color: #00af00; text-decoration-color: #00af00\">64</span>)          │               <span style=\"color: #00af00; text-decoration-color: #00af00\">0</span> │\n",
       "├──────────────────────────────────────┼─────────────────────────────┼─────────────────┤\n",
       "│ flatten (<span style=\"color: #0087ff; text-decoration-color: #0087ff\">Flatten</span>)                    │ (<span style=\"color: #00d7ff; text-decoration-color: #00d7ff\">None</span>, <span style=\"color: #00af00; text-decoration-color: #00af00\">9216</span>)                │               <span style=\"color: #00af00; text-decoration-color: #00af00\">0</span> │\n",
       "├──────────────────────────────────────┼─────────────────────────────┼─────────────────┤\n",
       "│ dense (<span style=\"color: #0087ff; text-decoration-color: #0087ff\">Dense</span>)                        │ (<span style=\"color: #00d7ff; text-decoration-color: #00d7ff\">None</span>, <span style=\"color: #00af00; text-decoration-color: #00af00\">256</span>)                 │       <span style=\"color: #00af00; text-decoration-color: #00af00\">2,359,552</span> │\n",
       "├──────────────────────────────────────┼─────────────────────────────┼─────────────────┤\n",
       "│ dropout_1 (<span style=\"color: #0087ff; text-decoration-color: #0087ff\">Dropout</span>)                  │ (<span style=\"color: #00d7ff; text-decoration-color: #00d7ff\">None</span>, <span style=\"color: #00af00; text-decoration-color: #00af00\">256</span>)                 │               <span style=\"color: #00af00; text-decoration-color: #00af00\">0</span> │\n",
       "├──────────────────────────────────────┼─────────────────────────────┼─────────────────┤\n",
       "│ dense_1 (<span style=\"color: #0087ff; text-decoration-color: #0087ff\">Dense</span>)                      │ (<span style=\"color: #00d7ff; text-decoration-color: #00d7ff\">None</span>, <span style=\"color: #00af00; text-decoration-color: #00af00\">10</span>)                  │           <span style=\"color: #00af00; text-decoration-color: #00af00\">2,570</span> │\n",
       "└──────────────────────────────────────┴─────────────────────────────┴─────────────────┘\n",
       "</pre>\n"
      ],
      "text/plain": [
       "┏━━━━━━━━━━━━━━━━━━━━━━━━━━━━━━━━━━━━━━┳━━━━━━━━━━━━━━━━━━━━━━━━━━━━━┳━━━━━━━━━━━━━━━━━┓\n",
       "┃\u001b[1m \u001b[0m\u001b[1mLayer (type)                        \u001b[0m\u001b[1m \u001b[0m┃\u001b[1m \u001b[0m\u001b[1mOutput Shape               \u001b[0m\u001b[1m \u001b[0m┃\u001b[1m \u001b[0m\u001b[1m        Param #\u001b[0m\u001b[1m \u001b[0m┃\n",
       "┡━━━━━━━━━━━━━━━━━━━━━━━━━━━━━━━━━━━━━━╇━━━━━━━━━━━━━━━━━━━━━━━━━━━━━╇━━━━━━━━━━━━━━━━━┩\n",
       "│ conv2d (\u001b[38;5;33mConv2D\u001b[0m)                      │ (\u001b[38;5;45mNone\u001b[0m, \u001b[38;5;34m26\u001b[0m, \u001b[38;5;34m26\u001b[0m, \u001b[38;5;34m32\u001b[0m)          │             \u001b[38;5;34m320\u001b[0m │\n",
       "├──────────────────────────────────────┼─────────────────────────────┼─────────────────┤\n",
       "│ conv2d_1 (\u001b[38;5;33mConv2D\u001b[0m)                    │ (\u001b[38;5;45mNone\u001b[0m, \u001b[38;5;34m24\u001b[0m, \u001b[38;5;34m24\u001b[0m, \u001b[38;5;34m64\u001b[0m)          │          \u001b[38;5;34m18,496\u001b[0m │\n",
       "├──────────────────────────────────────┼─────────────────────────────┼─────────────────┤\n",
       "│ max_pooling2d (\u001b[38;5;33mMaxPooling2D\u001b[0m)         │ (\u001b[38;5;45mNone\u001b[0m, \u001b[38;5;34m12\u001b[0m, \u001b[38;5;34m12\u001b[0m, \u001b[38;5;34m64\u001b[0m)          │               \u001b[38;5;34m0\u001b[0m │\n",
       "├──────────────────────────────────────┼─────────────────────────────┼─────────────────┤\n",
       "│ dropout (\u001b[38;5;33mDropout\u001b[0m)                    │ (\u001b[38;5;45mNone\u001b[0m, \u001b[38;5;34m12\u001b[0m, \u001b[38;5;34m12\u001b[0m, \u001b[38;5;34m64\u001b[0m)          │               \u001b[38;5;34m0\u001b[0m │\n",
       "├──────────────────────────────────────┼─────────────────────────────┼─────────────────┤\n",
       "│ flatten (\u001b[38;5;33mFlatten\u001b[0m)                    │ (\u001b[38;5;45mNone\u001b[0m, \u001b[38;5;34m9216\u001b[0m)                │               \u001b[38;5;34m0\u001b[0m │\n",
       "├──────────────────────────────────────┼─────────────────────────────┼─────────────────┤\n",
       "│ dense (\u001b[38;5;33mDense\u001b[0m)                        │ (\u001b[38;5;45mNone\u001b[0m, \u001b[38;5;34m256\u001b[0m)                 │       \u001b[38;5;34m2,359,552\u001b[0m │\n",
       "├──────────────────────────────────────┼─────────────────────────────┼─────────────────┤\n",
       "│ dropout_1 (\u001b[38;5;33mDropout\u001b[0m)                  │ (\u001b[38;5;45mNone\u001b[0m, \u001b[38;5;34m256\u001b[0m)                 │               \u001b[38;5;34m0\u001b[0m │\n",
       "├──────────────────────────────────────┼─────────────────────────────┼─────────────────┤\n",
       "│ dense_1 (\u001b[38;5;33mDense\u001b[0m)                      │ (\u001b[38;5;45mNone\u001b[0m, \u001b[38;5;34m10\u001b[0m)                  │           \u001b[38;5;34m2,570\u001b[0m │\n",
       "└──────────────────────────────────────┴─────────────────────────────┴─────────────────┘\n"
      ]
     },
     "metadata": {},
     "output_type": "display_data"
    },
    {
     "data": {
      "text/html": [
       "<pre style=\"white-space:pre;overflow-x:auto;line-height:normal;font-family:Menlo,'DejaVu Sans Mono',consolas,'Courier New',monospace\"><span style=\"font-weight: bold\"> Total params: </span><span style=\"color: #00af00; text-decoration-color: #00af00\">2,380,938</span> (9.08 MB)\n",
       "</pre>\n"
      ],
      "text/plain": [
       "\u001b[1m Total params: \u001b[0m\u001b[38;5;34m2,380,938\u001b[0m (9.08 MB)\n"
      ]
     },
     "metadata": {},
     "output_type": "display_data"
    },
    {
     "data": {
      "text/html": [
       "<pre style=\"white-space:pre;overflow-x:auto;line-height:normal;font-family:Menlo,'DejaVu Sans Mono',consolas,'Courier New',monospace\"><span style=\"font-weight: bold\"> Trainable params: </span><span style=\"color: #00af00; text-decoration-color: #00af00\">2,380,938</span> (9.08 MB)\n",
       "</pre>\n"
      ],
      "text/plain": [
       "\u001b[1m Trainable params: \u001b[0m\u001b[38;5;34m2,380,938\u001b[0m (9.08 MB)\n"
      ]
     },
     "metadata": {},
     "output_type": "display_data"
    },
    {
     "data": {
      "text/html": [
       "<pre style=\"white-space:pre;overflow-x:auto;line-height:normal;font-family:Menlo,'DejaVu Sans Mono',consolas,'Courier New',monospace\"><span style=\"font-weight: bold\"> Non-trainable params: </span><span style=\"color: #00af00; text-decoration-color: #00af00\">0</span> (0.00 B)\n",
       "</pre>\n"
      ],
      "text/plain": [
       "\u001b[1m Non-trainable params: \u001b[0m\u001b[38;5;34m0\u001b[0m (0.00 B)\n"
      ]
     },
     "metadata": {},
     "output_type": "display_data"
    }
   ],
   "source": [
    "model.summary()"
   ]
  },
  {
   "cell_type": "code",
   "execution_count": 22,
   "id": "c7c89626-ece0-4788-b932-1b429ca620e3",
   "metadata": {},
   "outputs": [],
   "source": [
    "model.compile(loss=keras.losses.categorical_focal_crossentropy, optimizer=keras.optimizers.Adam(), metrics=['accuracy'])"
   ]
  },
  {
   "cell_type": "code",
   "execution_count": 23,
   "id": "2322b93a-a97b-47e7-86e4-2cc9c6dd1a97",
   "metadata": {},
   "outputs": [
    {
     "name": "stdout",
     "output_type": "stream",
     "text": [
      "Epoch 1/10\n",
      "\u001b[1m6000/6000\u001b[0m \u001b[32m━━━━━━━━━━━━━━━━━━━━\u001b[0m\u001b[37m\u001b[0m \u001b[1m239s\u001b[0m 40ms/step - accuracy: 0.9120 - loss: 0.0393 - val_accuracy: 0.9838 - val_loss: 0.0055\n",
      "Epoch 2/10\n",
      "\u001b[1m6000/6000\u001b[0m \u001b[32m━━━━━━━━━━━━━━━━━━━━\u001b[0m\u001b[37m\u001b[0m \u001b[1m215s\u001b[0m 36ms/step - accuracy: 0.9774 - loss: 0.0087 - val_accuracy: 0.9885 - val_loss: 0.0034\n",
      "Epoch 3/10\n",
      "\u001b[1m6000/6000\u001b[0m \u001b[32m━━━━━━━━━━━━━━━━━━━━\u001b[0m\u001b[37m\u001b[0m \u001b[1m228s\u001b[0m 38ms/step - accuracy: 0.9830 - loss: 0.0062 - val_accuracy: 0.9884 - val_loss: 0.0044\n",
      "Epoch 4/10\n",
      "\u001b[1m6000/6000\u001b[0m \u001b[32m━━━━━━━━━━━━━━━━━━━━\u001b[0m\u001b[37m\u001b[0m \u001b[1m214s\u001b[0m 36ms/step - accuracy: 0.9860 - loss: 0.0048 - val_accuracy: 0.9884 - val_loss: 0.0047\n",
      "Epoch 5/10\n",
      "\u001b[1m6000/6000\u001b[0m \u001b[32m━━━━━━━━━━━━━━━━━━━━\u001b[0m\u001b[37m\u001b[0m \u001b[1m220s\u001b[0m 37ms/step - accuracy: 0.9862 - loss: 0.0046 - val_accuracy: 0.9895 - val_loss: 0.0036\n",
      "Epoch 6/10\n",
      "\u001b[1m6000/6000\u001b[0m \u001b[32m━━━━━━━━━━━━━━━━━━━━\u001b[0m\u001b[37m\u001b[0m \u001b[1m214s\u001b[0m 36ms/step - accuracy: 0.9900 - loss: 0.0035 - val_accuracy: 0.9893 - val_loss: 0.0037\n",
      "Epoch 7/10\n",
      "\u001b[1m6000/6000\u001b[0m \u001b[32m━━━━━━━━━━━━━━━━━━━━\u001b[0m\u001b[37m\u001b[0m \u001b[1m227s\u001b[0m 38ms/step - accuracy: 0.9909 - loss: 0.0029 - val_accuracy: 0.9910 - val_loss: 0.0040\n",
      "Epoch 8/10\n",
      "\u001b[1m6000/6000\u001b[0m \u001b[32m━━━━━━━━━━━━━━━━━━━━\u001b[0m\u001b[37m\u001b[0m \u001b[1m210s\u001b[0m 35ms/step - accuracy: 0.9908 - loss: 0.0031 - val_accuracy: 0.9909 - val_loss: 0.0038\n",
      "Epoch 9/10\n",
      "\u001b[1m6000/6000\u001b[0m \u001b[32m━━━━━━━━━━━━━━━━━━━━\u001b[0m\u001b[37m\u001b[0m \u001b[1m210s\u001b[0m 35ms/step - accuracy: 0.9922 - loss: 0.0027 - val_accuracy: 0.9915 - val_loss: 0.0049\n",
      "Epoch 10/10\n",
      "\u001b[1m6000/6000\u001b[0m \u001b[32m━━━━━━━━━━━━━━━━━━━━\u001b[0m\u001b[37m\u001b[0m \u001b[1m271s\u001b[0m 45ms/step - accuracy: 0.9921 - loss: 0.0027 - val_accuracy: 0.9895 - val_loss: 0.0043\n"
     ]
    },
    {
     "name": "stderr",
     "output_type": "stream",
     "text": [
      "WARNING:absl:You are saving your model as an HDF5 file via `model.save()` or `keras.saving.save_model(model)`. This file format is considered legacy. We recommend using instead the native Keras format, e.g. `model.save('my_model.keras')` or `keras.saving.save_model(model, 'my_model.keras')`. \n"
     ]
    },
    {
     "name": "stdout",
     "output_type": "stream",
     "text": [
      "the model has trained successfully\n",
      "model has saved successfuly as h5\n"
     ]
    }
   ],
   "source": [
    "hist = model.fit(x_train, y_train, batch_size=batch_size, epochs=epoches, verbose=1, validation_data=(x_test, y_test))\n",
    "print('the model has trained successfully')\n",
    "model.save('HandWritten.h5')\n",
    "print('model has saved successfuly as h5')"
   ]
  },
  {
   "cell_type": "code",
   "execution_count": 24,
   "id": "58708cf2-6073-4f1a-8536-5131b059c6d6",
   "metadata": {},
   "outputs": [
    {
     "name": "stdout",
     "output_type": "stream",
     "text": [
      "Test loss :  0.004275434650480747\n",
      "Test accuracy :  0.9894999861717224\n"
     ]
    }
   ],
   "source": [
    "score = model.evaluate(x_test, y_test, verbose=0)\n",
    "print('Test loss : ', score[0])\n",
    "print('Test accuracy : ', score[1])"
   ]
  },
  {
   "cell_type": "code",
   "execution_count": 25,
   "id": "1ede7b6f-799d-48ec-97f1-1f2ab8975588",
   "metadata": {},
   "outputs": [
    {
     "name": "stdout",
     "output_type": "stream",
     "text": [
      "Collecting pywin32\n",
      "  Downloading pywin32-308-cp312-cp312-win_amd64.whl.metadata (8.3 kB)\n",
      "Downloading pywin32-308-cp312-cp312-win_amd64.whl (6.5 MB)\n",
      "   ---------------------------------------- 0.0/6.5 MB ? eta -:--:--\n",
      "   ---------------------------------------- 0.0/6.5 MB ? eta -:--:--\n",
      "   ---------------------------------------- 0.0/6.5 MB 330.3 kB/s eta 0:00:20\n",
      "   ---------------------------------------- 0.1/6.5 MB 550.5 kB/s eta 0:00:12\n",
      "    --------------------------------------- 0.1/6.5 MB 853.3 kB/s eta 0:00:08\n",
      "   - -------------------------------------- 0.2/6.5 MB 1.1 MB/s eta 0:00:06\n",
      "   - -------------------------------------- 0.3/6.5 MB 1.1 MB/s eta 0:00:06\n",
      "   -- ------------------------------------- 0.4/6.5 MB 1.2 MB/s eta 0:00:05\n",
      "   -- ------------------------------------- 0.5/6.5 MB 1.3 MB/s eta 0:00:05\n",
      "   --- ------------------------------------ 0.5/6.5 MB 1.3 MB/s eta 0:00:05\n",
      "   --- ------------------------------------ 0.6/6.5 MB 1.4 MB/s eta 0:00:05\n",
      "   ---- ----------------------------------- 0.7/6.5 MB 1.4 MB/s eta 0:00:05\n",
      "   ---- ----------------------------------- 0.8/6.5 MB 1.5 MB/s eta 0:00:04\n",
      "   ----- ---------------------------------- 0.8/6.5 MB 1.4 MB/s eta 0:00:04\n",
      "   ----- ---------------------------------- 0.9/6.5 MB 1.5 MB/s eta 0:00:04\n",
      "   ------ --------------------------------- 1.0/6.5 MB 1.5 MB/s eta 0:00:04\n",
      "   ------ --------------------------------- 1.1/6.5 MB 1.5 MB/s eta 0:00:04\n",
      "   ------- -------------------------------- 1.1/6.5 MB 1.5 MB/s eta 0:00:04\n",
      "   ------- -------------------------------- 1.2/6.5 MB 1.5 MB/s eta 0:00:04\n",
      "   -------- ------------------------------- 1.3/6.5 MB 1.5 MB/s eta 0:00:04\n",
      "   -------- ------------------------------- 1.4/6.5 MB 1.5 MB/s eta 0:00:04\n",
      "   --------- ------------------------------ 1.5/6.5 MB 1.5 MB/s eta 0:00:04\n",
      "   --------- ------------------------------ 1.6/6.5 MB 1.5 MB/s eta 0:00:04\n",
      "   ---------- ----------------------------- 1.6/6.5 MB 1.6 MB/s eta 0:00:04\n",
      "   ---------- ----------------------------- 1.7/6.5 MB 1.6 MB/s eta 0:00:04\n",
      "   ---------- ----------------------------- 1.8/6.5 MB 1.6 MB/s eta 0:00:04\n",
      "   ----------- ---------------------------- 1.9/6.5 MB 1.6 MB/s eta 0:00:03\n",
      "   ----------- ---------------------------- 1.9/6.5 MB 1.6 MB/s eta 0:00:03\n",
      "   ------------ --------------------------- 2.0/6.5 MB 1.6 MB/s eta 0:00:03\n",
      "   ------------ --------------------------- 2.1/6.5 MB 1.6 MB/s eta 0:00:03\n",
      "   ------------- -------------------------- 2.2/6.5 MB 1.6 MB/s eta 0:00:03\n",
      "   ------------- -------------------------- 2.2/6.5 MB 1.6 MB/s eta 0:00:03\n",
      "   -------------- ------------------------- 2.3/6.5 MB 1.6 MB/s eta 0:00:03\n",
      "   -------------- ------------------------- 2.4/6.5 MB 1.6 MB/s eta 0:00:03\n",
      "   --------------- ------------------------ 2.5/6.5 MB 1.6 MB/s eta 0:00:03\n",
      "   --------------- ------------------------ 2.5/6.5 MB 1.6 MB/s eta 0:00:03\n",
      "   --------------- ------------------------ 2.6/6.5 MB 1.6 MB/s eta 0:00:03\n",
      "   ---------------- ----------------------- 2.7/6.5 MB 1.6 MB/s eta 0:00:03\n",
      "   ---------------- ----------------------- 2.8/6.5 MB 1.6 MB/s eta 0:00:03\n",
      "   ----------------- ---------------------- 2.9/6.5 MB 1.6 MB/s eta 0:00:03\n",
      "   ----------------- ---------------------- 2.9/6.5 MB 1.6 MB/s eta 0:00:03\n",
      "   ------------------ --------------------- 3.0/6.5 MB 1.6 MB/s eta 0:00:03\n",
      "   ------------------ --------------------- 3.1/6.5 MB 1.6 MB/s eta 0:00:03\n",
      "   ------------------- -------------------- 3.2/6.5 MB 1.6 MB/s eta 0:00:03\n",
      "   ------------------- -------------------- 3.2/6.5 MB 1.6 MB/s eta 0:00:03\n",
      "   -------------------- ------------------- 3.3/6.5 MB 1.6 MB/s eta 0:00:02\n",
      "   -------------------- ------------------- 3.4/6.5 MB 1.6 MB/s eta 0:00:02\n",
      "   --------------------- ------------------ 3.5/6.5 MB 1.6 MB/s eta 0:00:02\n",
      "   --------------------- ------------------ 3.6/6.5 MB 1.6 MB/s eta 0:00:02\n",
      "   ---------------------- ----------------- 3.6/6.5 MB 1.6 MB/s eta 0:00:02\n",
      "   ---------------------- ----------------- 3.7/6.5 MB 1.6 MB/s eta 0:00:02\n",
      "   ---------------------- ----------------- 3.8/6.5 MB 1.6 MB/s eta 0:00:02\n",
      "   ----------------------- ---------------- 3.8/6.5 MB 1.6 MB/s eta 0:00:02\n",
      "   ----------------------- ---------------- 3.9/6.5 MB 1.6 MB/s eta 0:00:02\n",
      "   ------------------------ --------------- 4.0/6.5 MB 1.6 MB/s eta 0:00:02\n",
      "   ------------------------ --------------- 4.1/6.5 MB 1.6 MB/s eta 0:00:02\n",
      "   ------------------------- -------------- 4.2/6.5 MB 1.6 MB/s eta 0:00:02\n",
      "   ------------------------- -------------- 4.2/6.5 MB 1.6 MB/s eta 0:00:02\n",
      "   -------------------------- ------------- 4.3/6.5 MB 1.6 MB/s eta 0:00:02\n",
      "   -------------------------- ------------- 4.4/6.5 MB 1.6 MB/s eta 0:00:02\n",
      "   --------------------------- ------------ 4.5/6.5 MB 1.6 MB/s eta 0:00:02\n",
      "   --------------------------- ------------ 4.5/6.5 MB 1.6 MB/s eta 0:00:02\n",
      "   ---------------------------- ----------- 4.6/6.5 MB 1.6 MB/s eta 0:00:02\n",
      "   ---------------------------- ----------- 4.7/6.5 MB 1.6 MB/s eta 0:00:02\n",
      "   ----------------------------- ---------- 4.8/6.5 MB 1.6 MB/s eta 0:00:02\n",
      "   ----------------------------- ---------- 4.9/6.5 MB 1.6 MB/s eta 0:00:02\n",
      "   ------------------------------ --------- 4.9/6.5 MB 1.6 MB/s eta 0:00:01\n",
      "   ------------------------------ --------- 5.0/6.5 MB 1.6 MB/s eta 0:00:01\n",
      "   ------------------------------- -------- 5.1/6.5 MB 1.6 MB/s eta 0:00:01\n",
      "   ------------------------------- -------- 5.2/6.5 MB 1.6 MB/s eta 0:00:01\n",
      "   -------------------------------- ------- 5.3/6.5 MB 1.6 MB/s eta 0:00:01\n",
      "   -------------------------------- ------- 5.3/6.5 MB 1.6 MB/s eta 0:00:01\n",
      "   -------------------------------- ------- 5.4/6.5 MB 1.6 MB/s eta 0:00:01\n",
      "   --------------------------------- ------ 5.5/6.5 MB 1.6 MB/s eta 0:00:01\n",
      "   --------------------------------- ------ 5.5/6.5 MB 1.6 MB/s eta 0:00:01\n",
      "   ---------------------------------- ----- 5.6/6.5 MB 1.6 MB/s eta 0:00:01\n",
      "   ---------------------------------- ----- 5.7/6.5 MB 1.6 MB/s eta 0:00:01\n",
      "   ----------------------------------- ---- 5.8/6.5 MB 1.6 MB/s eta 0:00:01\n",
      "   ----------------------------------- ---- 5.9/6.5 MB 1.6 MB/s eta 0:00:01\n",
      "   ------------------------------------ --- 5.9/6.5 MB 1.6 MB/s eta 0:00:01\n",
      "   ------------------------------------ --- 6.0/6.5 MB 1.6 MB/s eta 0:00:01\n",
      "   ------------------------------------- -- 6.1/6.5 MB 1.6 MB/s eta 0:00:01\n",
      "   ------------------------------------- -- 6.2/6.5 MB 1.6 MB/s eta 0:00:01\n",
      "   -------------------------------------- - 6.2/6.5 MB 1.6 MB/s eta 0:00:01\n",
      "   -------------------------------------- - 6.3/6.5 MB 1.6 MB/s eta 0:00:01\n",
      "   ---------------------------------------  6.4/6.5 MB 1.6 MB/s eta 0:00:01\n",
      "   ---------------------------------------  6.5/6.5 MB 1.6 MB/s eta 0:00:01\n",
      "   ---------------------------------------  6.5/6.5 MB 1.6 MB/s eta 0:00:01\n",
      "   ---------------------------------------- 6.5/6.5 MB 1.6 MB/s eta 0:00:00\n",
      "Installing collected packages: pywin32\n",
      "Successfully installed pywin32-308\n"
     ]
    },
    {
     "name": "stderr",
     "output_type": "stream",
     "text": [
      "\n",
      "[notice] A new release of pip is available: 24.0 -> 25.0\n",
      "[notice] To update, run: python.exe -m pip install --upgrade pip\n"
     ]
    }
   ],
   "source": [
    "!pip install pywin32\n"
   ]
  },
  {
   "cell_type": "code",
   "execution_count": null,
   "id": "1d6288c0-129a-4212-a3a3-bf7b69ea6d3a",
   "metadata": {},
   "outputs": [],
   "source": []
  }
 ],
 "metadata": {
  "kernelspec": {
   "display_name": "Python 3 (ipykernel)",
   "language": "python",
   "name": "python3"
  },
  "language_info": {
   "codemirror_mode": {
    "name": "ipython",
    "version": 3
   },
   "file_extension": ".py",
   "mimetype": "text/x-python",
   "name": "python",
   "nbconvert_exporter": "python",
   "pygments_lexer": "ipython3",
   "version": "3.12.0"
  }
 },
 "nbformat": 4,
 "nbformat_minor": 5
}
